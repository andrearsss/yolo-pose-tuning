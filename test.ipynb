{
 "cells": [
  {
   "cell_type": "code",
   "execution_count": 1,
   "metadata": {},
   "outputs": [],
   "source": [
    "import numpy as np\n",
    "from PIL import Image, ImageDraw, ImageFont\n",
    "import cv2\n",
    "import matplotlib.pyplot as plt\n",
    "from ultralytics import YOLO\n",
    "import os"
   ]
  },
  {
   "cell_type": "code",
   "execution_count": null,
   "metadata": {},
   "outputs": [],
   "source": [
    "base_path = 'runs_small/pose/train5'\n",
    "model = YOLO(os.path.join(base_path, \"weights/best.pt\"))\n",
    "config_file = os.path.join(base_path, \"args.yaml\")\n",
    "dataset = \"./datasets/dataset.yaml\""
   ]
  },
  {
   "cell_type": "code",
   "execution_count": null,
   "metadata": {},
   "outputs": [],
   "source": [
    "metrics = model.val(data=dataset, cfg=config_file, split='test')"
   ]
  },
  {
   "cell_type": "code",
   "execution_count": 5,
   "metadata": {},
   "outputs": [
    {
     "name": "stdout",
     "output_type": "stream",
     "text": [
      "mAP50-95: 0.4729694182402896\n",
      "mAP50: 0.8351195906670786\n"
     ]
    }
   ],
   "source": [
    "print('mAP50-95: ' + str(metrics.pose.map))  # map50-95\n",
    "print('mAP50: ' + str(metrics.pose.map50))  # map50"
   ]
  },
  {
   "cell_type": "code",
   "execution_count": 3,
   "metadata": {},
   "outputs": [],
   "source": [
    "from pose_utils import draw_skeleton, annotate_keypoints\n",
    "\n",
    "def inference(model, image_path):\n",
    "    image = cv2.imread(image_path)\n",
    "\n",
    "    if image is None:\n",
    "        raise FileNotFoundError(f\"Image not found at {image_path}\")\n",
    "\n",
    "    # Perform inference\n",
    "    results = model(image, verbose=False)\n",
    "\n",
    "    # Extract keypoints (assuming single person detected)\n",
    "    if results[0].keypoints is not None:\n",
    "        keypoints = results[0].keypoints.xy.cpu().numpy()[0]  # (num_keypoints, 2)\n",
    "        draw_skeleton(image, keypoints)\n",
    "        annotate_keypoints(image, keypoints)\n",
    "    else:\n",
    "        print(\"No keypoints detected.\")\n",
    "\n",
    "    # Display the result\n",
    "    plt.imshow(cv2.cvtColor(image, cv2.COLOR_BGR2RGB))\n",
    "    plt.axis('off')\n",
    "    plt.show()"
   ]
  },
  {
   "cell_type": "markdown",
   "metadata": {},
   "source": [
    "Comparison with original pre-trained model"
   ]
  },
  {
   "cell_type": "code",
   "execution_count": null,
   "metadata": {},
   "outputs": [],
   "source": [
    "model = YOLO(os.path.join(base_path, \"weights/best.pt\"))\n",
    "inference(model, \"./datasets/split/test/im09004.jpg\")\n",
    "\n",
    "model = YOLO(\"./yolo11n-pose.pt\")\n",
    "inference(model, \"./datasets/split/test/im09004.jpg\")"
   ]
  }
 ],
 "metadata": {
  "kernelspec": {
   "display_name": "torch",
   "language": "python",
   "name": "python3"
  },
  "language_info": {
   "codemirror_mode": {
    "name": "ipython",
    "version": 3
   },
   "file_extension": ".py",
   "mimetype": "text/x-python",
   "name": "python",
   "nbconvert_exporter": "python",
   "pygments_lexer": "ipython3",
   "version": "3.12.3"
  }
 },
 "nbformat": 4,
 "nbformat_minor": 2
}
