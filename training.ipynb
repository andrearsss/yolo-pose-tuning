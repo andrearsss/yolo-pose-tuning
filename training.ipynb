{
 "cells": [
  {
   "cell_type": "code",
   "execution_count": null,
   "metadata": {},
   "outputs": [],
   "source": [
    "from ultralytics import YOLO\n",
    "from torch.utils.tensorboard import SummaryWriter\n",
    "import yaml\n",
    "import json"
   ]
  },
  {
   "cell_type": "code",
   "execution_count": null,
   "metadata": {},
   "outputs": [],
   "source": [
    "def train_model(base_model='yolo11n-pose.pt', log_dir='./runs/pose', note=''):\n",
    "\n",
    "    config_file = \"./model/config.yaml\"\n",
    "    dataset = \"./data/dataset.yaml\"\n",
    "    \n",
    "    with open(config_file, \"r\") as file:\n",
    "        config = yaml.safe_load(file)\n",
    "\n",
    "    config_str = json.dumps(config, indent=4)\n",
    "\n",
    "    writer = SummaryWriter(log_dir=log_dir)\n",
    "    print(config_str)\n",
    "    writer.add_text(\"Configuration\", config_str)\n",
    "    writer.add_text(\"Note\", note)\n",
    "    \n",
    "    for key, value in config.items():\n",
    "        if isinstance(value, (int, float)):\n",
    "            writer.add_scalar(f\"Hyperparameters/{key}\", value)\n",
    "\n",
    "    model = YOLO(base_model)\n",
    "    model.train(data=dataset, cfg=config_file)\n",
    "\n",
    "    writer.close()"
   ]
  },
  {
   "cell_type": "markdown",
   "metadata": {},
   "source": [
    "## YOLO-nano"
   ]
  },
  {
   "cell_type": "markdown",
   "metadata": {},
   "source": [
    "train5 pose_loss +3, kobj_loss+1 e lr come la precedente, box_loss -2.5"
   ]
  },
  {
   "cell_type": "markdown",
   "metadata": {},
   "source": [
    "train6 pose_loss +3, kobj_loss+1, box_loss -2.5 bs32"
   ]
  },
  {
   "cell_type": "markdown",
   "metadata": {},
   "source": [
    "train7 pose_loss +3, kobj_loss+1, box_loss -2.5 bs64'"
   ]
  },
  {
   "cell_type": "markdown",
   "metadata": {},
   "source": [
    "train8 pose_loss +3, kobj_loss+1, box_loss -2.5 bs64 warmup10"
   ]
  },
  {
   "cell_type": "markdown",
   "metadata": {},
   "source": [
    "train9 pose_loss +3, kobj_loss+1, box_loss -2.5 bs64 warmup30"
   ]
  },
  {
   "cell_type": "markdown",
   "metadata": {},
   "source": [
    "train10 pose_loss +3, kobj_loss+1, box_loss -2.5 bs64 warmup50"
   ]
  },
  {
   "cell_type": "markdown",
   "metadata": {},
   "source": [
    "train11 pose_loss +3, kobj_loss+1, box_loss -2.5 bs64 warmup90"
   ]
  },
  {
   "cell_type": "markdown",
   "metadata": {},
   "source": [
    "NO train12 pose_loss +5, kobj_loss+2, box_loss -3.5 bs64 warmup90 lrf1e-3"
   ]
  },
  {
   "cell_type": "markdown",
   "metadata": {},
   "source": [
    "train12 pose_loss +3, kobj_loss+1, box_loss -2.5 bs64 warmup50 lrf 1e-3 trend ancor buono"
   ]
  },
  {
   "cell_type": "markdown",
   "metadata": {},
   "source": [
    "train_13 = train_11 ma 300 epoche\n",
    "\n",
    "train_14 = train_12 ma 300 epoche"
   ]
  },
  {
   "cell_type": "markdown",
   "metadata": {},
   "source": [
    "train_15 = train_11 ma 400 epoche e lrf1e-4"
   ]
  },
  {
   "cell_type": "markdown",
   "metadata": {},
   "source": [
    "TRAIN_15 ok provare patience 40/50 e data augmentation"
   ]
  },
  {
   "cell_type": "markdown",
   "metadata": {},
   "source": [
    "train_16 = train_15 con patience 50, degrees 45, translate 0, close_mosaic 10\n"
   ]
  },
  {
   "cell_type": "markdown",
   "metadata": {},
   "source": [
    "train_17 = train_16 con translate 0.1, mosaic 0"
   ]
  },
  {
   "cell_type": "markdown",
   "metadata": {},
   "source": [
    "train_18 = train_17 con lrf 1e-5, 550 epoche, patience 30 (interrotto)"
   ]
  },
  {
   "cell_type": "markdown",
   "metadata": {},
   "source": [
    "train_19 = train_17 con lr0 5e-3 e lrf 1e-8, 550 epoche, patience 30"
   ]
  },
  {
   "cell_type": "code",
   "execution_count": null,
   "metadata": {},
   "outputs": [],
   "source": [
    "train_model(log_dir=\"./runs/pose\", note='train_19 = train_17 con lr0 5e-3 e lrf 1e-8, 550 epoche, patience 30')"
   ]
  },
  {
   "cell_type": "markdown",
   "metadata": {},
   "source": [
    "NO train_18 = continuo train_17 con lr0 2.5e-5, lrf 1e-2, no warmup, 100 epochs, cache disk\n",
    "\n",
    "NO train_18 = continuo train_17 con lr0 1e-4, lrf 1e-1, no warmup, 100 epochs, cache disk\n",
    "\n"
   ]
  },
  {
   "cell_type": "markdown",
   "metadata": {},
   "source": [
    "## YOLO-small"
   ]
  },
  {
   "cell_type": "code",
   "execution_count": null,
   "metadata": {},
   "outputs": [],
   "source": [
    "#train_model(base_model='yolo11s-pose.pt', log_dir=\"./runs/pose\", note='train_1 small = train_19 nano con lr0 1e-2, warmup 10 epochs 0.5 bias, 70 epoche (cache disk)')"
   ]
  },
  {
   "cell_type": "markdown",
   "metadata": {},
   "source": [
    "train2 prova img_size 120, batch_size 128, 100 epoche\n",
    "\n",
    "train3 prova img_size 120, batch_size 128, warmup 20 epochs 0.1 bias, 550 epoche\n",
    "\n",
    "train4 prova img_size 320, batch_size 128, warmup 20 epochs 0.01 bias, 550 epoche\n",
    "\n",
    "train5 prova img_size 320, batch_size 128, warmup 90 epochs 0.01 bias, 550 epoche"
   ]
  },
  {
   "cell_type": "markdown",
   "metadata": {},
   "source": [
    "img_size 480 = 1 min\n",
    "\n",
    "img_size 320 = 20 sec\n",
    "\n",
    "img_size 120 = 8 sec"
   ]
  },
  {
   "cell_type": "code",
   "execution_count": null,
   "metadata": {},
   "outputs": [],
   "source": [
    "train_model(base_model='yolo11s-pose.pt', log_dir=\"./runs/pose\", note='train5')"
   ]
  },
  {
   "cell_type": "markdown",
   "metadata": {},
   "source": []
  }
 ],
 "metadata": {
  "kernelspec": {
   "display_name": "torch",
   "language": "python",
   "name": "python3"
  },
  "language_info": {
   "codemirror_mode": {
    "name": "ipython",
    "version": 3
   },
   "file_extension": ".py",
   "mimetype": "text/x-python",
   "name": "python",
   "nbconvert_exporter": "python",
   "pygments_lexer": "ipython3",
   "version": "3.12.3"
  }
 },
 "nbformat": 4,
 "nbformat_minor": 2
}
