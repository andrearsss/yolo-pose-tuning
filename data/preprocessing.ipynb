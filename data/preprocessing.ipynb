{
 "cells": [
  {
   "cell_type": "code",
   "execution_count": 1,
   "metadata": {},
   "outputs": [],
   "source": [
    "import scipy.io as spio\n",
    "import scipy\n",
    "import os\n",
    "import numpy as np\n",
    "from PIL import Image, ImageDraw, ImageFont\n",
    "import cv2\n",
    "import matplotlib.pyplot as plt\n",
    "from ultralytics import YOLO"
   ]
  },
  {
   "cell_type": "code",
   "execution_count": 2,
   "metadata": {},
   "outputs": [],
   "source": [
    "data_root = './datasets/'\n",
    "N_KEYPOINTS = 14\n",
    "\n",
    "KP_MAP = {\n",
    "    0: \"r_ankle\",\n",
    "    1: \"r_knee\",\n",
    "    2: \"r_hip\",\n",
    "    3: \"l_hip\",\n",
    "    4: \"l_knee\",\n",
    "    5: \"l_ankle\",\n",
    "    6: \"r_wrist\",\n",
    "    7: \"r_elbow\",\n",
    "    8: \"r_shoulder\",\n",
    "    9: \"l_shoulder\",\n",
    "    10: \"l_elbow\",\n",
    "    11: \"l_wrist\",\n",
    "    12: \"neck\",\n",
    "    13: \"head_top\",\n",
    "}"
   ]
  },
  {
   "cell_type": "code",
   "execution_count": 3,
   "metadata": {},
   "outputs": [],
   "source": [
    "def show_image(path, filename, keypoints=None):\n",
    "    RADIUS = 2\n",
    "    image = Image.open(os.path.join(path, filename))\n",
    "\n",
    "    if keypoints:\n",
    "        draw = ImageDraw.Draw(image)\n",
    "        \n",
    "        try:\n",
    "            font = ImageFont.truetype(\"arial.ttf\", 10)\n",
    "        except IOError:\n",
    "            font = ImageFont.load_default()\n",
    "\n",
    "        for x, y, kp_id in keypoints:\n",
    "            draw.ellipse((x-RADIUS, y-RADIUS, x+RADIUS, y+RADIUS), fill=(0, 255, 0), outline=(0, 255, 0))\n",
    "            \n",
    "            kp_name = KP_MAP.get(kp_id, \"unknown\")\n",
    "            \n",
    "            text_x, text_y = x + RADIUS + 2, y - RADIUS - 2  \n",
    "            draw.text((text_x, text_y), kp_name, fill=(255, 0, 0), font=font)\n",
    "        \n",
    "    image.show()\n",
    "\n",
    "def extract_keypoints(data=None, filename=None, only_visible=False):\n",
    "    keypoints = []\n",
    "\n",
    "    for id, keypoint in data[filename]['keypoints'].items():\n",
    "        if not only_visible or (only_visible and keypoint['is_visible'] == 2):\n",
    "            x, y = keypoint['x'], keypoint['y']\n",
    "            keypoints.append((x, y, id))\n",
    "    return keypoints"
   ]
  },
  {
   "cell_type": "code",
   "execution_count": 4,
   "metadata": {},
   "outputs": [],
   "source": [
    "def print_dict_structure(d, indent=0):\n",
    "    \"\"\"\n",
    "    Recursively prints the structure of a nested dictionary.\n",
    "    \"\"\"\n",
    "    # Check if the current level is a dictionary\n",
    "    if isinstance(d, dict):\n",
    "        for key, value in d.items():\n",
    "            print(\" \" * indent + f\"{key}: {type(value).__name__}\")\n",
    "            # Recursively print the structure if value is a dictionary or list\n",
    "            if isinstance(value, (dict, list)):\n",
    "                print_dict_structure(value, indent + 2)\n",
    "    elif isinstance(d, list):\n",
    "        # Check the type of elements inside the list if it's not empty\n",
    "        if len(d) > 0:\n",
    "            print(\" \" * indent + f\"[{type(d[0]).__name__} list]\")\n",
    "            for item in d:\n",
    "                if isinstance(item, (dict, list)):\n",
    "                    print_dict_structure(item, indent + 2)\n",
    "        else:\n",
    "            print(\" \" * indent + \"[]\")  # Empty list"
   ]
  },
  {
   "cell_type": "markdown",
   "metadata": {},
   "source": [
    "## LSPe dataset"
   ]
  },
  {
   "cell_type": "code",
   "execution_count": 5,
   "metadata": {},
   "outputs": [],
   "source": [
    "lspe_labels_path = os.path.join(data_root, 'lsp', 'joints.mat')\n",
    "lspe_imgs_path = os.path.join(data_root, 'lsp', 'images')"
   ]
  },
  {
   "cell_type": "code",
   "execution_count": 6,
   "metadata": {},
   "outputs": [],
   "source": [
    "#mat = scipy.io.loadmat(lspe_labels_path, simplify_cells=True)\n",
    "mat = scipy.io.loadmat(lspe_labels_path, struct_as_record=False, squeeze_me=True)\n"
   ]
  },
  {
   "cell_type": "code",
   "execution_count": 7,
   "metadata": {},
   "outputs": [
    {
     "data": {
      "text/plain": [
       "(14, 3, 10000)"
      ]
     },
     "execution_count": 7,
     "metadata": {},
     "output_type": "execute_result"
    }
   ],
   "source": [
    "annotations = mat['joints']\n",
    "annotations.shape"
   ]
  },
  {
   "cell_type": "code",
   "execution_count": 8,
   "metadata": {},
   "outputs": [
    {
     "data": {
      "text/plain": [
       "(10000, 14, 3)"
      ]
     },
     "execution_count": 8,
     "metadata": {},
     "output_type": "execute_result"
    }
   ],
   "source": [
    "annotations = np.transpose(annotations, (2, 0, 1))\n",
    "annotations.shape"
   ]
  },
  {
   "cell_type": "code",
   "execution_count": 9,
   "metadata": {},
   "outputs": [
    {
     "name": "stdout",
     "output_type": "stream",
     "text": [
      "[[     170.63      85.194           1]\n",
      " [     149.51      89.684           1]\n",
      " [          0     -40.534           0]\n",
      " [     108.67      65.898           1]\n",
      " [     71.845      46.578           1]\n",
      " [     31.432       28.18           1]\n",
      " [     99.684       95.51           1]\n",
      " [          0     -40.534           0]\n",
      " [          0     -40.534           0]\n",
      " [      137.4      73.083           1]\n",
      " [      138.3      89.248           1]\n",
      " [     131.12      104.05           1]\n",
      " [          0     -40.534           0]\n",
      " [     116.75      76.675           1]]\n",
      "[[     57.461      198.87           1]\n",
      " [     58.278      156.82           1]\n",
      " [     51.744         107           1]\n",
      " [     66.865      107.81           1]\n",
      " [      102.8      103.73           1]\n",
      " [     74.614      130.68           1]\n",
      " [     90.552      64.923           1]\n",
      " [     86.865      89.426           1]\n",
      " [     74.614       71.06           1]\n",
      " [     51.744      64.525           1]\n",
      " [     66.865      63.709           1]\n",
      " [     86.468      59.625           1]\n",
      " [     59.912      57.174           1]\n",
      " [     64.812      40.022           1]]\n",
      "[[     50.922      189.81           1]\n",
      " [     67.754      159.69           1]\n",
      " [    -29.551           0           0]\n",
      " [    -29.551           0           0]\n",
      " [     100.33       145.2           1]\n",
      " [     89.102      186.67           1]\n",
      " [     81.087      106.71           1]\n",
      " [     70.142      86.217           1]\n",
      " [      74.09      53.924           1]\n",
      " [    -29.551           0           0]\n",
      " [    -29.551           0           0]\n",
      " [    -29.551           0           0]\n",
      " [     87.163      54.161           1]\n",
      " [     102.08       31.04           1]]\n",
      "[[      39.03      98.934           1]\n",
      " [     60.133      92.756           1]\n",
      " [      86.52      73.402           1]\n",
      " [     105.51      88.193           1]\n",
      " [     83.345      99.086           1]\n",
      " [     52.395      103.67           1]\n",
      " [     50.285      87.128           1]\n",
      " [     74.904      61.463           1]\n",
      " [      96.71      37.547           1]\n",
      " [     127.32      44.924           1]\n",
      " [     119.92       75.17           1]\n",
      " [     107.62      104.35           1]\n",
      " [     116.41      41.045           1]\n",
      " [     133.31       21.35           1]]\n",
      "[[          0     -59.139           0]\n",
      " [          0     -59.139           0]\n",
      " [          0     -59.139           0]\n",
      " [     118.31      127.67           1]\n",
      " [     118.31      81.497           1]\n",
      " [     113.25      40.385           1]\n",
      " [          0     -59.139           0]\n",
      " [          0     -59.139           0]\n",
      " [          0     -59.139           0]\n",
      " [     142.82      97.373           1]\n",
      " [     141.36      125.49           1]\n",
      " [     133.46      154.33           1]\n",
      " [      149.3      86.557           1]\n",
      " [     155.82      69.227           1]]\n",
      "[[     154.78      212.73           1]\n",
      " [     158.28      173.97           1]\n",
      " [     118.84      145.79           1]\n",
      " [    -63.587           0           0]\n",
      " [    -63.587           0           0]\n",
      " [    -63.587           0           0]\n",
      " [     108.97      142.98           1]\n",
      " [     118.15      121.16           1]\n",
      " [     139.28      110.61           1]\n",
      " [    -63.587           0           0]\n",
      " [     140.69      142.29           1]\n",
      " [     146.33      157.79           1]\n",
      " [     150.55      109.89           1]\n",
      " [     169.55      98.618           1]]\n",
      "[[      125.4      124.17           1]\n",
      " [    -48.443           0           0]\n",
      " [    -48.443           0           0]\n",
      " [     169.67      132.28           1]\n",
      " [     136.72      104.74           1]\n",
      " [     102.72      111.21           1]\n",
      " [     106.49      141.45           1]\n",
      " [    -48.443           0           0]\n",
      " [     142.15      98.783           1]\n",
      " [     158.87      95.018           1]\n",
      " [     156.19      115.01           1]\n",
      " [     140.51      134.97           1]\n",
      " [     147.55      92.859           1]\n",
      " [     142.67       68.55           1]]\n",
      "[[     213.36      185.51           1]\n",
      " [     221.69      174.03           1]\n",
      " [     214.43      129.24           1]\n",
      " [     249.82       132.4           1]\n",
      " [     258.15      161.54           1]\n",
      " [     244.59      192.77           1]\n",
      " [     192.54      125.08           1]\n",
      " [     200.87      108.43           1]\n",
      " [     224.84      89.745           1]\n",
      " [     267.49      102.24           1]\n",
      " [     274.81      126.15           1]\n",
      " [     278.97      144.89           1]\n",
      " [     251.91      99.085           1]\n",
      " [     261.25       79.28           1]]\n",
      "[[    -45.293           0           0]\n",
      " [     115.44      216.76           1]\n",
      " [     120.08      184.47           1]\n",
      " [     147.08      173.27           1]\n",
      " [     128.63      214.11           1]\n",
      " [     157.62      205.56           1]\n",
      " [     113.49      231.25           1]\n",
      " [     104.25      203.57           1]\n",
      " [     79.209      177.88           1]\n",
      " [     91.058      166.03           1]\n",
      " [     93.051      202.91           1]\n",
      " [     75.259      234.55           1]\n",
      " [     77.252      171.97           1]\n",
      " [     54.823      160.08           1]]\n",
      "[[     32.279      174.58           1]\n",
      " [     29.559      111.99           1]\n",
      " [     80.784       80.27           1]\n",
      " [     93.039      87.525           1]\n",
      " [     60.392      98.407           1]\n",
      " [     51.765       172.3           1]\n",
      " [     126.59       75.27           1]\n",
      " [    -41.176           0           0]\n",
      " [    -41.176           0           0]\n",
      " [     129.31      98.848           1]\n",
      " [      146.1      93.848           1]\n",
      " [     156.08       63.48           1]\n",
      " [    -41.176           0           0]\n",
      " [     140.66      127.43           1]]\n"
     ]
    }
   ],
   "source": [
    "for id in range(10,20):\n",
    "    print(annotations[id])"
   ]
  },
  {
   "cell_type": "markdown",
   "metadata": {},
   "source": [
    "Create dictionary while removing image with incomplete keypoints (negative values)"
   ]
  },
  {
   "cell_type": "code",
   "execution_count": 10,
   "metadata": {},
   "outputs": [
    {
     "data": {
      "text/plain": [
       "10000"
      ]
     },
     "execution_count": 10,
     "metadata": {},
     "output_type": "execute_result"
    }
   ],
   "source": [
    "len(annotations)"
   ]
  },
  {
   "cell_type": "code",
   "execution_count": 11,
   "metadata": {},
   "outputs": [
    {
     "data": {
      "text/plain": [
       "array([[          0,     -26.109,           0],\n",
       "       [     26.031,       86.41,           1],\n",
       "       [     50.608,      75.701,           1],\n",
       "       [      71.73,      87.567,           1],\n",
       "       [      49.17,      89.006,           1],\n",
       "       [     23.139,       94.79,           1],\n",
       "       [     131.31,      13.805,           1],\n",
       "       [     111.64,       34.63,           1],\n",
       "       [     93.711,      49.091,           1],\n",
       "       [     102.39,      68.462,           1],\n",
       "       [     110.78,      88.427,           1],\n",
       "       [     139.13,      89.584,           1],\n",
       "       [     96.885,      56.611,           1],\n",
       "       [     116.57,      53.422,           1]])"
      ]
     },
     "execution_count": 11,
     "metadata": {},
     "output_type": "execute_result"
    }
   ],
   "source": [
    "annotations[0]"
   ]
  },
  {
   "cell_type": "markdown",
   "metadata": {},
   "source": [
    "COCO is_visible values used in YOLO:\n",
    " - 0: Not labeled\n",
    " - 1: Labelled but not visible\n",
    " - 2: Labeled and visible."
   ]
  },
  {
   "cell_type": "markdown",
   "metadata": {},
   "source": [
    "In this case (LSPe dataset), non-visible points have unknown coordinates. So, values will be either 0 or 2"
   ]
  },
  {
   "cell_type": "code",
   "execution_count": 12,
   "metadata": {},
   "outputs": [],
   "source": [
    "lspe_data = {}\n",
    "lspe_filenames = os.listdir(lspe_imgs_path)\n",
    "for i in range(len(annotations)): # image\n",
    "    keypoints = {\n",
    "                    'keypoints': {}\n",
    "                  }        \n",
    "    for j, keypoint in enumerate(annotations[i]):\n",
    "        x, y, is_visible = keypoint   # x, y, visible\n",
    "\n",
    "        visibility = 0\n",
    "        if x >= 0 and y >= 0 and is_visible == 1:\n",
    "            visibility = 2\n",
    "        elif x > 0 and y > 0 and is_visible == 0:\n",
    "            visibility = 1\n",
    "        if visibility == 0:\n",
    "            kp = {'x': 0, 'y': 0, 'is_visible': 0}\n",
    "        else:\n",
    "            kp = {'x': int(x), 'y': int(y), 'is_visible': visibility}\n",
    "        keypoints['keypoints'][j] = kp\n",
    "\n",
    "    lspe_data[lspe_filenames[i]] = keypoints\n"
   ]
  },
  {
   "cell_type": "markdown",
   "metadata": {},
   "source": [
    "Check that no keypoint has visibility 1 (labelled but not visible)"
   ]
  },
  {
   "cell_type": "code",
   "execution_count": 13,
   "metadata": {},
   "outputs": [],
   "source": [
    "for k,v in lspe_data.items():\n",
    "    for id,keypoint in v['keypoints'].items():\n",
    "        if keypoint['is_visible'] == 1:\n",
    "            print(v)"
   ]
  },
  {
   "cell_type": "markdown",
   "metadata": {},
   "source": [
    "Add image size information"
   ]
  },
  {
   "cell_type": "code",
   "execution_count": 14,
   "metadata": {},
   "outputs": [],
   "source": [
    "for elem in os.listdir(lspe_imgs_path):\n",
    "    img = Image.open(os.path.join(lspe_imgs_path, elem))\n",
    "\n",
    "    lspe_data[elem]['size'] = (img.size)"
   ]
  },
  {
   "cell_type": "markdown",
   "metadata": {},
   "source": [
    "## Check images and labels"
   ]
  },
  {
   "cell_type": "markdown",
   "metadata": {},
   "source": [
    "Total images"
   ]
  },
  {
   "cell_type": "code",
   "execution_count": 15,
   "metadata": {},
   "outputs": [
    {
     "name": "stdout",
     "output_type": "stream",
     "text": [
      "LSPe images: 10000\n"
     ]
    }
   ],
   "source": [
    "print(f'LSPe images: {len(lspe_data)}')"
   ]
  },
  {
   "cell_type": "markdown",
   "metadata": {},
   "source": [
    "Check number of keypoints"
   ]
  },
  {
   "cell_type": "code",
   "execution_count": 16,
   "metadata": {},
   "outputs": [],
   "source": [
    "for key,item in lspe_data.items():\n",
    "    if len(item['keypoints']) != N_KEYPOINTS:\n",
    "            print(id, len(item['keypoints']), item)"
   ]
  },
  {
   "cell_type": "code",
   "execution_count": 17,
   "metadata": {},
   "outputs": [
    {
     "data": {
      "text/plain": [
       "{'keypoints': {0: {'x': 39, 'y': 98, 'is_visible': 2},\n",
       "  1: {'x': 60, 'y': 92, 'is_visible': 2},\n",
       "  2: {'x': 86, 'y': 73, 'is_visible': 2},\n",
       "  3: {'x': 105, 'y': 88, 'is_visible': 2},\n",
       "  4: {'x': 83, 'y': 99, 'is_visible': 2},\n",
       "  5: {'x': 52, 'y': 103, 'is_visible': 2},\n",
       "  6: {'x': 50, 'y': 87, 'is_visible': 2},\n",
       "  7: {'x': 74, 'y': 61, 'is_visible': 2},\n",
       "  8: {'x': 96, 'y': 37, 'is_visible': 2},\n",
       "  9: {'x': 127, 'y': 44, 'is_visible': 2},\n",
       "  10: {'x': 119, 'y': 75, 'is_visible': 2},\n",
       "  11: {'x': 107, 'y': 104, 'is_visible': 2},\n",
       "  12: {'x': 116, 'y': 41, 'is_visible': 2},\n",
       "  13: {'x': 133, 'y': 21, 'is_visible': 2}},\n",
       " 'size': (191, 127)}"
      ]
     },
     "execution_count": 17,
     "metadata": {},
     "output_type": "execute_result"
    }
   ],
   "source": [
    "lspe_data[lspe_filenames[id]]"
   ]
  },
  {
   "cell_type": "markdown",
   "metadata": {},
   "source": [
    "Check labels"
   ]
  },
  {
   "cell_type": "code",
   "execution_count": 18,
   "metadata": {},
   "outputs": [
    {
     "name": "stdout",
     "output_type": "stream",
     "text": [
      "Invalid keypoint im08075.jpg kp_id: 1 {'x': 386, 'y': 150, 'is_visible': 2}\n"
     ]
    }
   ],
   "source": [
    "for filename, image in lspe_data.items():\n",
    "    width, height = image['size']\n",
    "    for id, kp in image['keypoints'].items():\n",
    "        if kp['x'] < 0 or kp['x'] > width or kp['y'] < 0 or kp['y'] > height:\n",
    "            print('Invalid keypoint', filename, 'kp_id:', id, kp)"
   ]
  },
  {
   "cell_type": "markdown",
   "metadata": {},
   "source": [
    "Ad-hoc correction"
   ]
  },
  {
   "cell_type": "code",
   "execution_count": 19,
   "metadata": {},
   "outputs": [],
   "source": [
    "lspe_data['im08075.jpg']['keypoints'][1] = {'x': 90, 'y': 116, 'is_visible': 2}"
   ]
  },
  {
   "cell_type": "markdown",
   "metadata": {},
   "source": [
    "Check image dimensions"
   ]
  },
  {
   "cell_type": "code",
   "execution_count": 20,
   "metadata": {},
   "outputs": [],
   "source": [
    "sizes = []\n",
    "for elem in os.listdir(lspe_imgs_path):\n",
    "    sizes.append(lspe_data[elem]['size'])\n",
    "sizes_set = set(sizes)"
   ]
  },
  {
   "cell_type": "code",
   "execution_count": 22,
   "metadata": {},
   "outputs": [
    {
     "data": {
      "image/png": "[encoded data removed]",
      "text/plain": [
       "<Figure size 1000x400 with 2 Axes>"
      ]
     },
     "metadata": {},
     "output_type": "display_data"
    }
   ],
   "source": [
    "x_values = [size[0] for size in sizes_set]\n",
    "y_values = [size[1] for size in sizes_set]\n",
    "h_max = 1200\n",
    "\n",
    "plt.figure(figsize=(10, 4))\n",
    "\n",
    "# histogram for X values\n",
    "plt.subplot(1, 2, 1)\n",
    "plt.ylim(0, h_max)\n",
    "plt.hist(x_values, bins=30, color='blue', alpha=0.7, edgecolor='black')\n",
    "plt.title('Image widths')\n",
    "plt.xlabel('X')\n",
    "plt.ylabel('Frequency')\n",
    "plt.grid(axis='y')\n",
    "\n",
    "# histogram for Y values\n",
    "plt.subplot(1, 2, 2)\n",
    "plt.ylim(0, h_max)\n",
    "plt.hist(y_values, bins=30, color='green', alpha=0.7, edgecolor='black')\n",
    "plt.title('Image heights')\n",
    "plt.xlabel('Y')\n",
    "plt.ylabel('Frequency')\n",
    "plt.grid(axis='y')\n",
    "\n",
    "plt.tight_layout()\n",
    "plt.show()"
   ]
  },
  {
   "cell_type": "markdown",
   "metadata": {},
   "source": [
    "Visualizing random samples"
   ]
  },
  {
   "cell_type": "code",
   "execution_count": 29,
   "metadata": {},
   "outputs": [
    {
     "name": "stdout",
     "output_type": "stream",
     "text": [
      "[21, 70, 74, 52, 80]\n"
     ]
    }
   ],
   "source": [
    "ids = np.random.rand(5)*100\n",
    "ids = [int(elem) for elem in ids]\n",
    "\n",
    "print(ids)"
   ]
  },
  {
   "cell_type": "code",
   "execution_count": 34,
   "metadata": {},
   "outputs": [],
   "source": [
    "for id in ids:\n",
    "    show_image(lspe_imgs_path, lspe_filenames[id], extract_keypoints(lspe_data, lspe_filenames[id], only_visible=True))"
   ]
  },
  {
   "cell_type": "markdown",
   "metadata": {},
   "source": [
    "## Test inference"
   ]
  },
  {
   "cell_type": "code",
   "execution_count": 25,
   "metadata": {},
   "outputs": [],
   "source": [
    "ID = 22\n",
    "show_image(lspe_imgs_path, lspe_filenames[ID], extract_keypoints(lspe_data, lspe_filenames[ID], only_visible=True))"
   ]
  },
  {
   "cell_type": "code",
   "execution_count": 26,
   "metadata": {},
   "outputs": [
    {
     "name": "stdout",
     "output_type": "stream",
     "text": [
      "\n"
     ]
    },
    {
     "name": "stderr",
     "output_type": "stream",
     "text": [
      "c:\\Users\\Andrea\\miniconda3\\envs\\torch\\Lib\\site-packages\\torch\\nn\\modules\\conv.py:456: UserWarning: Plan failed with a cudnnException: CUDNN_BACKEND_EXECUTION_PLAN_DESCRIPTOR: cudnnFinalize Descriptor Failed cudnn_status: CUDNN_STATUS_NOT_SUPPORTED (Triggered internally at C:\\cb\\pytorch_1000000000000\\work\\aten\\src\\ATen\\native\\cudnn\\Conv_v8.cpp:919.)\n",
      "  return F.conv2d(input, weight, bias, self.stride,\n"
     ]
    },
    {
     "name": "stdout",
     "output_type": "stream",
     "text": [
      "image 1/1 c:\\Users\\Andrea\\Uni\\IPCV\\progetto\\datasets\\lsp\\images\\im00023.jpg: 640x448 3 persons, 109.5ms\n",
      "Speed: 2.0ms preprocess, 109.5ms inference, 51.0ms postprocess per image at shape (1, 3, 640, 448)\n",
      "Results saved to \u001b[1mruns\\pose\\predict\u001b[0m\n"
     ]
    }
   ],
   "source": [
    "model = YOLO(\"yolo11n-pose.pt\")\n",
    "\n",
    "test_image = os.path.join(lspe_imgs_path, lspe_filenames[ID])\n",
    "results = model(test_image, save=True, save_dir='./runs/pose')"
   ]
  },
  {
   "cell_type": "markdown",
   "metadata": {},
   "source": [
    "## Train/val/test split"
   ]
  },
  {
   "cell_type": "code",
   "execution_count": null,
   "metadata": {},
   "outputs": [
    {
     "name": "stdout",
     "output_type": "stream",
     "text": [
      "Data split completed! 8000 images in 'train', 1000 in 'val', and 1000 in 'test'.\n"
     ]
    }
   ],
   "source": [
    "import os\n",
    "import shutil\n",
    "import random\n",
    "\n",
    "split_folder = os.path.join(data_root, 'split')\n",
    "\n",
    "if not os.path.exists(split_folder):\n",
    "    os.makedirs(split_folder)\n",
    "\n",
    "for subfolder in ['train', 'val', 'test']:\n",
    "    subfolder_path = os.path.join(split_folder, subfolder)\n",
    "    if not os.path.exists(subfolder_path):\n",
    "        os.makedirs(subfolder_path)\n",
    "\n",
    "image_files = [f for f in os.listdir(lspe_imgs_path) if os.path.isfile(os.path.join(lspe_imgs_path, f))]\n",
    "\n",
    "# 80 / 10 / 10\n",
    "total_images = len(image_files)\n",
    "train_size = int(total_images * 0.8)\n",
    "val_size = int(total_images * 0.1)\n",
    "test_size = total_images - train_size - val_size\n",
    "\n",
    "train_images = image_files[:train_size]\n",
    "val_images = image_files[train_size:train_size + val_size]\n",
    "test_images = image_files[train_size + val_size:]\n",
    "\n",
    "def copy_images(images, folder):\n",
    "    for image in images:\n",
    "        src_path = os.path.join(lspe_imgs_path, image)\n",
    "        dst_path = os.path.join(split_folder, folder, image)\n",
    "        shutil.copy(src_path, dst_path)\n",
    "\n",
    "# Move the images to their respective folders\n",
    "# copy_images(train_images, 'train')\n",
    "# copy_images(val_images, 'val')\n",
    "# copy_images(test_images, 'test')\n",
    "\n",
    "print(f\"Data split completed! {len(train_images)} images in 'train', {len(val_images)} in 'val', and {len(test_images)} in 'test'.\")\n"
   ]
  },
  {
   "cell_type": "markdown",
   "metadata": {},
   "source": [
    "## Convert to YOLO format"
   ]
  },
  {
   "cell_type": "markdown",
   "metadata": {},
   "source": [
    "Utility functions"
   ]
  },
  {
   "cell_type": "code",
   "execution_count": 65,
   "metadata": {},
   "outputs": [],
   "source": [
    "def calculate_bounding_box(img_file, padding_factor=0.5, verbose=False):\n",
    "    img_data = lspe_data[img_file]\n",
    "\n",
    "    # calculate bbox only on visible keypoints\n",
    "    keypoints = [keypoint for _, keypoint in img_data['keypoints'].items() if keypoint['is_visible'] !=0 ]\n",
    "    image_width, image_height = img_data['size']\n",
    "\n",
    "    x_coords = [kp['x'] for kp in keypoints]\n",
    "    y_coords = [kp['y'] for kp in keypoints]\n",
    "    \n",
    "    # get extreme keypoints\n",
    "    min_x, max_x = min(x_coords), max(x_coords)\n",
    "    min_y, max_y = min(y_coords), max(y_coords)\n",
    "    \n",
    "    # calculate the bbox center, width and height\n",
    "    center_x = (min_x + max_x) / 2\n",
    "    center_y = (min_y + max_y) / 2\n",
    "    b_width = max_x - min_x\n",
    "    b_height = max_y - min_y\n",
    "\n",
    "    if padding_factor > 0:\n",
    "        # add some padding without exceeding image dimension\n",
    "        # padding_factor = 0.5 means 0.25 in each direction\n",
    "        if verbose:\n",
    "            print(f'{img_file} before b_height: {b_height}, b_width: {b_width}')\n",
    "\n",
    "        remaining_y_up = center_y - int(b_height/2)\n",
    "        remaining_y_down = image_height - (center_y + int(b_height)/2)\n",
    "        max_padding_y = 2*min(remaining_y_up, remaining_y_down) # minimum of these two is the amount i can safely add both above and below\n",
    "        b_height += min(max_padding_y, padding_factor*b_height) # add a percentage of box height without exceeding image dimension\n",
    "\n",
    "        remaining_x_left = center_x - int(b_width/2)\n",
    "        remaining_x_right = image_width - (center_x + int(b_width)/2)\n",
    "        max_padding_x = 2*min(remaining_x_left, remaining_x_right)\n",
    "        b_width += min(max_padding_x, padding_factor*b_width)\n",
    "\n",
    "        if verbose:\n",
    "            print(f'{img_file} after b_height: {b_height}, b_width: {b_width}')\n",
    "    \n",
    "    # normalized bbox coordinates\n",
    "    norm_center_x = min(center_x / image_width, 1)\n",
    "    norm_center_y = min(center_y / image_height, 1)\n",
    "    norm_width = min(b_width / image_width, 1)\n",
    "    norm_height = min(b_height / image_height, 1)\n",
    "    \n",
    "    return {\n",
    "        'x': norm_center_x,\n",
    "        'y': norm_center_y,\n",
    "        'width': norm_width,\n",
    "        'height': norm_height\n",
    "    }\n",
    "\n",
    "def show_bounding_box(img_path, bbox, color=(0, 255, 0), thickness=2):\n",
    "\n",
    "    image = cv2.imread(img_path)\n",
    "    image_height, image_width, _ = image.shape\n",
    "    \n",
    "    # denormalize bbox coordinates\n",
    "    center_x = bbox['x'] * image_width\n",
    "    center_y = bbox['y'] * image_height\n",
    "    width = bbox['width'] * image_width\n",
    "    height = bbox['height'] * image_height\n",
    "    \n",
    "    # draw rectangle\n",
    "    x_min = int(center_x - width / 2)\n",
    "    x_max = int(center_x + width / 2)\n",
    "    y_min = int(center_y - height / 2)\n",
    "    y_max = int(center_y + height / 2)\n",
    "    \n",
    "    image = cv2.line(image, (x_min, y_min), (x_max, y_min), color, thickness) \n",
    "    image = cv2.line(image, (x_max, y_min), (x_max, y_max), color, thickness)\n",
    "    image = cv2.line(image, (x_max, y_max), (x_min, y_max), color, thickness)\n",
    "    image = cv2.line(image, (x_min, y_max), (x_min, y_min), color, thickness)\n",
    "\n",
    "    image = cv2.cvtColor(image, cv2.COLOR_BGR2RGB)\n",
    "    image_bbox = Image.fromarray(image)\n",
    "    image_bbox.show()"
   ]
  },
  {
   "cell_type": "markdown",
   "metadata": {},
   "source": [
    "Check bounding boxes"
   ]
  },
  {
   "cell_type": "code",
   "execution_count": 66,
   "metadata": {},
   "outputs": [
    {
     "name": "stdout",
     "output_type": "stream",
     "text": [
      "im00080.jpg before b_height: 87, b_width: 89\n",
      "im00080.jpg after b_height: 124.0, b_width: 133.5\n",
      "im00063.jpg before b_height: 94, b_width: 108\n",
      "im00063.jpg after b_height: 141.0, b_width: 162.0\n"
     ]
    }
   ],
   "source": [
    "ids = np.random.rand(5)*100\n",
    "ids = [int(elem) for elem in ids][:2]\n",
    "\n",
    "for id in ids:\n",
    "    img_file = lspe_filenames[id]\n",
    "    img_path = os.path.join(lspe_imgs_path, img_file)\n",
    "\n",
    "    # without padding\n",
    "    bbox = calculate_bounding_box(img_file, padding_factor=0)\n",
    "    show_bounding_box(img_path, bbox)\n",
    "    \n",
    "    # with padding\n",
    "    bbox = calculate_bounding_box(img_file, padding_factor=0.5, verbose=True)\n",
    "    show_bounding_box(img_path, bbox)"
   ]
  },
  {
   "cell_type": "markdown",
   "metadata": {},
   "source": [
    "Write YOLO label files"
   ]
  },
  {
   "cell_type": "code",
   "execution_count": null,
   "metadata": {},
   "outputs": [],
   "source": [
    "split_folder = os.path.join(data_root, 'split')\n",
    "for dir in os.listdir(split_folder):\n",
    "    folder = os.path.join(split_folder, dir)\n",
    "    for file in os.listdir(folder):\n",
    "        \n",
    "        bbox = calculate_bounding_box(file, verbose=False)\n",
    "        img_width, img_height = lspe_data[file]['size']\n",
    "\n",
    "        # <class-index> <x> <y> <width> <height> <px1> <py1> <p1-visibility> ...  <pxn> <pyn> <pn-visibility>\n",
    "        # class 0 = person\n",
    "\n",
    "        yolo_label = f'0 {bbox['x']} {bbox['y']} {bbox['width']} {bbox['height']} '\n",
    "\n",
    "        for id in range(N_KEYPOINTS):\n",
    "            kp = lspe_data[file]['keypoints'][id]\n",
    "\n",
    "            x, y, visibility = kp['x']/img_width, kp['y']/img_height, kp['is_visible']\n",
    "            if x > 1 or y > 1:\n",
    "                print(kp, x, y, file, img_width, img_height)\n",
    "                \n",
    "            yolo_label += f'{x} {y} {visibility} '\n",
    "\n",
    "        yolo_label = yolo_label[:-1]\n",
    "\n",
    "        filename = file.split('.')[0] + '.txt'\n",
    "        label_file = os.path.join(split_folder, dir, filename)\n",
    "\n",
    "        with open(label_file, 'w') as file:\n",
    "            file.write(yolo_label)"
   ]
  }
 ],
 "metadata": {
  "kernelspec": {
   "display_name": "torch",
   "language": "python",
   "name": "python3"
  },
  "language_info": {
   "codemirror_mode": {
    "name": "ipython",
    "version": 3
   },
   "file_extension": ".py",
   "mimetype": "text/x-python",
   "name": "python",
   "nbconvert_exporter": "python",
   "pygments_lexer": "ipython3",
   "version": "3.12.3"
  }
 },
 "nbformat": 4,
 "nbformat_minor": 2
}
