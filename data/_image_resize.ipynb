{
 "cells": [
  {
   "cell_type": "code",
   "execution_count": null,
   "metadata": {},
   "outputs": [],
   "source": [
    "from PIL import Image\n",
    "import os\n",
    "path = \"./images/\"\n",
    "dirs = os.listdir( path )\n",
    "def resize():\n",
    "    for item in dirs:\n",
    "        if os.path.isfile(path+item):\n",
    "            img = Image.open(path+item)\n",
    "            #print(img.size)\n",
    "            f, e = os.path.splitext(path+item)\n",
    "            img = img.resize((128,128), Image.ANTIALIAS)\n",
    "            img.save(f + '.jpg')\n",
    "            #//print(img.size)\n",
    "resize()"
   ]
  },
  {
   "cell_type": "code",
   "execution_count": null,
   "metadata": {},
   "outputs": [],
   "source": [
    "import numpy as np\n",
    "from PIL import Image\n",
    "import os\n",
    "path = \"./images/\"\n",
    "dirs = os.listdir( path )\n",
    "\n",
    "n=2500\n",
    "image_size=128\n",
    "def to_numpy():\n",
    "    array_img = np.zeros((n,image_size,image_size,3))\n",
    "    i=0\n",
    "    for item in dirs:\n",
    "        if i>=n:\n",
    "            return array_img\n",
    "        elif os.path.isfile(path+item):\n",
    "            img = Image.open(path+item)\n",
    "            array_img[i] = np.asarray(img)\n",
    "            i+=1\n",
    "            \n",
    "array_img = to_numpy()            "
   ]
  },
  {
   "cell_type": "code",
   "execution_count": 14,
   "metadata": {},
   "outputs": [
    {
     "data": {
      "text/plain": [
       "(2500, 128, 128, 3)"
      ]
     },
     "execution_count": 14,
     "metadata": {},
     "output_type": "execute_result"
    }
   ],
   "source": [
    "array_img.shape"
   ]
  },
  {
   "cell_type": "code",
   "execution_count": null,
   "metadata": {},
   "outputs": [],
   "source": [
    "from scipy.io import loadmat\n",
    "joints = loadmat('joints.mat')"
   ]
  },
  {
   "cell_type": "code",
   "execution_count": 7,
   "metadata": {},
   "outputs": [
    {
     "data": {
      "text/plain": [
       "{'__header__': b'MATLAB 5.0 MAT-file, Platform: GLNXA64, Created on: Fri Jul 29 14:09:44 2011',\n",
       " '__version__': '1.0',\n",
       " '__globals__': [],\n",
       " 'joints': array([[[  0.        ,  75.71063741, 149.31389391, ..., 154.71535102,\n",
       "           49.67604825, 118.06726708],\n",
       "         [-26.10911452,  49.4939424 , 195.50574922, ..., 133.20360364,\n",
       "           17.03758838,  23.92387506],\n",
       "         [  0.        ,   1.        ,   1.        , ...,   1.        ,\n",
       "            1.        ,   1.        ]],\n",
       " \n",
       "        [[ 26.03094352,  83.65509044, 120.93402709, ..., 160.73603675,\n",
       "           37.24532382,  97.11380604],\n",
       "         [ 86.41022512,  63.1054386 , 178.16249727, ..., 115.75988716,\n",
       "           41.3056107 ,  31.04216451],\n",
       "         [  1.        ,   1.        ,   1.        , ...,   1.        ,\n",
       "            1.        ,   1.        ]],\n",
       " \n",
       "        [[ 50.60790641,  86.64750109, 156.43016682, ..., 187.84539463,\n",
       "           52.84619531,  63.68995822],\n",
       "         [ 75.70079791,  67.02470209, 155.32224409, ..., 116.96402431,\n",
       "           33.21626993,  31.04216451],\n",
       "         [  1.        ,   1.        ,   1.        , ...,   1.        ,\n",
       "            1.        ,   1.        ]],\n",
       " \n",
       "        ...,\n",
       " \n",
       "        [[139.12874857, 123.72161524, 119.35736782, ..., 125.81605954,\n",
       "           63.54348958,  70.83500815],\n",
       "         [ 89.58396778, 136.1944065 , 177.39547384, ...,  57.37550775,\n",
       "          133.47412273, 108.56729432],\n",
       "         [  1.        ,   1.        ,   1.        , ...,   1.        ,\n",
       "            1.        ,   1.        ]],\n",
       " \n",
       "        [[ 96.88513933,  84.44953575, 106.74409368, ..., 171.57327105,\n",
       "           58.04648581,  27.16189395],\n",
       "         [ 56.61143933, 106.19085555, 152.16892556, ...,  68.18019781,\n",
       "           91.87179876,  69.36318138],\n",
       "         [  1.        ,   1.        ,   1.        , ...,   1.        ,\n",
       "            1.        ,   1.        ]],\n",
       " \n",
       "        [[116.56859752,  54.65783687,  87.82418246, ..., 162.55851459,\n",
       "           63.2467763 ,  16.0295315 ],\n",
       "         [ 53.42206246,  98.4847361 , 145.05265264, ...,  51.94061847,\n",
       "          101.6945697 ,  82.28849643],\n",
       "         [  1.        ,   1.        ,   1.        , ...,   1.        ,\n",
       "            1.        ,   1.        ]]])}"
      ]
     },
     "execution_count": 7,
     "metadata": {},
     "output_type": "execute_result"
    }
   ],
   "source": [
    "joints"
   ]
  },
  {
   "cell_type": "code",
   "execution_count": 11,
   "metadata": {},
   "outputs": [
    {
     "data": {
      "text/plain": [
       "(14, 3, 10000)"
      ]
     },
     "execution_count": 11,
     "metadata": {},
     "output_type": "execute_result"
    }
   ],
   "source": [
    "array_joints =joints['joints']\n",
    "\n",
    "array_joints.shape"
   ]
  },
  {
   "cell_type": "code",
   "execution_count": 15,
   "metadata": {},
   "outputs": [],
   "source": [
    "np.savez(\"data\", array_img, array_joints)"
   ]
  }
 ],
 "metadata": {
  "kernelspec": {
   "display_name": "Python 3",
   "language": "python",
   "name": "python3"
  },
  "language_info": {
   "codemirror_mode": {
    "name": "ipython",
    "version": 3
   },
   "file_extension": ".py",
   "mimetype": "text/x-python",
   "name": "python",
   "nbconvert_exporter": "python",
   "pygments_lexer": "ipython3",
   "version": "3.7.4"
  }
 },
 "nbformat": 4,
 "nbformat_minor": 2
}
