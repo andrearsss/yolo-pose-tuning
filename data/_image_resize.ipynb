{
 "cells": [
  {
   "cell_type": "code",
   "execution_count": null,
   "metadata": {},
   "outputs": [],
   "source": [
    "from PIL import Image\n",
    "import os\n",
    "path = \"./images/\"\n",
    "dirs = os.listdir( path )\n",
    "def resize():\n",
    "    for item in dirs:\n",
    "        if os.path.isfile(path+item):\n",
    "            img = Image.open(path+item)\n",
    "            #print(img.size)\n",
    "            f, e = os.path.splitext(path+item)\n",
    "            img = img.resize((128,128), Image.ANTIALIAS)\n",
    "            img.save(f + '.jpg')\n",
    "            #//print(img.size)\n",
    "resize()"
   ]
  },
  {
   "cell_type": "code",
   "execution_count": null,
   "metadata": {},
   "outputs": [],
   "source": [
    "import numpy as np\n",
    "from PIL import Image\n",
    "import os\n",
    "path = \"./images/\"\n",
    "dirs = os.listdir( path )\n",
    "\n",
    "n=2500\n",
    "image_size=128\n",
    "def to_numpy():\n",
    "    array_img = np.zeros((n,image_size,image_size,3))\n",
    "    i=0\n",
    "    for item in dirs:\n",
    "        if i>=n:\n",
    "            return array_img\n",
    "        elif os.path.isfile(path+item):\n",
    "            img = Image.open(path+item)\n",
    "            array_img[i] = np.asarray(img)\n",
    "            i+=1\n",
    "            \n",
    "array_img = to_numpy()            "
   ]
  },
  {
   "cell_type": "code",
   "execution_count": 14,
   "metadata": {},
   "outputs": [
    {
     "data": {
      "text/plain": [
       "(2500, 128, 128, 3)"
      ]
     },
     "execution_count": 14,
     "metadata": {},
     "output_type": "execute_result"
    }
   ],
   "source": [
    "array_img.shape"
   ]
  },
  {
   "cell_type": "code",
   "execution_count": null,
   "metadata": {},
   "outputs": [],
   "source": [
    "from scipy.io import loadmat\n",
    "joints = loadmat('joints.mat')"
   ]
  },
  {
   "cell_type": "code",
   "execution_count": null,
   "metadata": {},
   "outputs": [],
   "source": [
    "joints"
   ]
  },
  {
   "cell_type": "code",
   "execution_count": 11,
   "metadata": {},
   "outputs": [
    {
     "data": {
      "text/plain": [
       "(14, 3, 10000)"
      ]
     },
     "execution_count": 11,
     "metadata": {},
     "output_type": "execute_result"
    }
   ],
   "source": [
    "array_joints =joints['joints']\n",
    "\n",
    "array_joints.shape"
   ]
  },
  {
   "cell_type": "code",
   "execution_count": 15,
   "metadata": {},
   "outputs": [],
   "source": [
    "np.savez(\"data\", array_img, array_joints)"
   ]
  }
 ],
 "metadata": {
  "kernelspec": {
   "display_name": "Python 3",
   "language": "python",
   "name": "python3"
  },
  "language_info": {
   "codemirror_mode": {
    "name": "ipython",
    "version": 3
   },
   "file_extension": ".py",
   "mimetype": "text/x-python",
   "name": "python",
   "nbconvert_exporter": "python",
   "pygments_lexer": "ipython3",
   "version": "3.7.4"
  }
 },
 "nbformat": 4,
 "nbformat_minor": 2
}
